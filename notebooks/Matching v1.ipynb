{
 "cells": [
  {
   "cell_type": "code",
   "execution_count": 45,
   "id": "4fc086ed",
   "metadata": {},
   "outputs": [],
   "source": [
    "from razdel import sentenize"
   ]
  },
  {
   "cell_type": "code",
   "execution_count": 25,
   "id": "9d4f996b",
   "metadata": {},
   "outputs": [],
   "source": [
    "first_text = \"Мама мыла раму и не раз. Она открыта ко многим предложениям. В принципе, в этом нет ничего такого. \" \\\n",
    "             \"Лошадка была красивая, но не умела разговаривать. Что ж, я не могу предложить вам ничего более. \" \\\n",
    "             \"Оставайтесь на чай, мадам, у нас будет весело! Что бы вы не говорили, всё будет сказано против вас. \" \\\n",
    "             \"Досвидания, мой друг.\""
   ]
  },
  {
   "cell_type": "code",
   "execution_count": 27,
   "id": "25224baa",
   "metadata": {},
   "outputs": [],
   "source": [
    "second_text = \"Она открыта ко многим предложениям. В принципе, в этом нет ничего такого. Я бы не сказал, что космос \" \\\n",
    "              \"многое изменил. Вы правы, это выглядит вызывающе. Лошадка была красивая, но не умела разговаривать. \" \\\n",
    "              \"Что ж, я не могу предложить вам ничего более. Правда была в том, что это ложь. Досвидания, мой друг.\""
   ]
  },
  {
   "cell_type": "code",
   "execution_count": 28,
   "id": "4cf22ec6",
   "metadata": {},
   "outputs": [],
   "source": [
    "first_sentences = list(sentenize(first_text))\n",
    "second_sentences = list(sentenize(second_text))"
   ]
  },
  {
   "cell_type": "code",
   "execution_count": 29,
   "id": "7f9d3320",
   "metadata": {},
   "outputs": [
    {
     "data": {
      "text/plain": [
       "[Substring(0, 24, 'Мама мыла раму и не раз.'),\n",
       " Substring(25, 60, 'Она открыта ко многим предложениям.'),\n",
       " Substring(61, 98, 'В принципе, в этом нет ничего такого.'),\n",
       " Substring(99, 148, 'Лошадка была красивая, но не умела разговаривать.'),\n",
       " Substring(149, 194, 'Что ж, я не могу предложить вам ничего более.'),\n",
       " Substring(195, 241, 'Оставайтесь на чай, мадам, у нас будет весело!'),\n",
       " Substring(242, 294, 'Что бы вы не говорили, всё будет сказано против вас.'),\n",
       " Substring(295, 316, 'Досвидания, мой друг.')]"
      ]
     },
     "execution_count": 29,
     "metadata": {},
     "output_type": "execute_result"
    }
   ],
   "source": [
    "first_sentences"
   ]
  },
  {
   "cell_type": "code",
   "execution_count": 30,
   "id": "bd2f3c8f",
   "metadata": {},
   "outputs": [
    {
     "data": {
      "text/plain": [
       "[Substring(0, 35, 'Она открыта ко многим предложениям.'),\n",
       " Substring(36, 73, 'В принципе, в этом нет ничего такого.'),\n",
       " Substring(74, 116, 'Я бы не сказал, что космос многое изменил.'),\n",
       " Substring(117, 150, 'Вы правы, это выглядит вызывающе.'),\n",
       " Substring(151, 200, 'Лошадка была красивая, но не умела разговаривать.'),\n",
       " Substring(201, 246, 'Что ж, я не могу предложить вам ничего более.'),\n",
       " Substring(247, 279, 'Правда была в том, что это ложь.'),\n",
       " Substring(280, 301, 'Досвидания, мой друг.')]"
      ]
     },
     "execution_count": 30,
     "metadata": {},
     "output_type": "execute_result"
    }
   ],
   "source": [
    "second_sentences"
   ]
  },
  {
   "cell_type": "code",
   "execution_count": 46,
   "id": "4ba2ef76",
   "metadata": {},
   "outputs": [
    {
     "ename": "IndentationError",
     "evalue": "expected an indented block (3214578084.py, line 3)",
     "output_type": "error",
     "traceback": [
      "\u001B[0;36m  File \u001B[0;32m\"/tmp/ipykernel_7366/3214578084.py\"\u001B[0;36m, line \u001B[0;32m3\u001B[0m\n\u001B[0;31m    for second_sentence in second_sentences:\u001B[0m\n\u001B[0m                                            ^\u001B[0m\n\u001B[0;31mIndentationError\u001B[0m\u001B[0;31m:\u001B[0m expected an indented block\n"
     ]
    }
   ],
   "source": [
    "first_matches = []\n",
    "second_matches = []\n",
    "for first_sentence in first_sentences:\n",
    "    for second_sentence in second_sentences:"
   ]
  },
  {
   "cell_type": "code",
   "execution_count": 40,
   "id": "f02f7cf8",
   "metadata": {},
   "outputs": [
    {
     "data": {
      "text/plain": [
       "0"
      ]
     },
     "execution_count": 40,
     "metadata": {},
     "output_type": "execute_result"
    }
   ],
   "source": [
    "cnt_matches"
   ]
  },
  {
   "cell_type": "code",
   "execution_count": null,
   "id": "408ca154",
   "metadata": {},
   "outputs": [],
   "source": []
  }
 ],
 "metadata": {
  "kernelspec": {
   "display_name": "Python 3 (ipykernel)",
   "language": "python",
   "name": "python3"
  },
  "language_info": {
   "codemirror_mode": {
    "name": "ipython",
    "version": 3
   },
   "file_extension": ".py",
   "mimetype": "text/x-python",
   "name": "python",
   "nbconvert_exporter": "python",
   "pygments_lexer": "ipython3",
   "version": "3.9.6"
  }
 },
 "nbformat": 4,
 "nbformat_minor": 5
}